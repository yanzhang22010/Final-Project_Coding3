{
 "cells": [
  {
   "cell_type": "code",
   "execution_count": 1,
   "id": "ca5d0c38",
   "metadata": {
    "execution": {
     "iopub.execute_input": "2023-06-17T15:07:39.323637Z",
     "iopub.status.busy": "2023-06-17T15:07:39.323203Z",
     "iopub.status.idle": "2023-06-17T15:07:51.225279Z",
     "shell.execute_reply": "2023-06-17T15:07:51.224106Z"
    },
    "papermill": {
     "duration": 11.908904,
     "end_time": "2023-06-17T15:07:51.227731",
     "exception": false,
     "start_time": "2023-06-17T15:07:39.318827",
     "status": "completed"
    },
    "tags": []
   },
   "outputs": [
    {
     "name": "stdout",
     "output_type": "stream",
     "text": [
      "Collecting torch-fidelity\r\n",
      "  Downloading torch_fidelity-0.3.0-py3-none-any.whl (37 kB)\r\n",
      "Requirement already satisfied: numpy in /opt/conda/lib/python3.10/site-packages (from torch-fidelity) (1.23.5)\r\n",
      "Requirement already satisfied: Pillow in /opt/conda/lib/python3.10/site-packages (from torch-fidelity) (9.5.0)\r\n",
      "Requirement already satisfied: scipy in /opt/conda/lib/python3.10/site-packages (from torch-fidelity) (1.10.1)\r\n",
      "Requirement already satisfied: torch in /opt/conda/lib/python3.10/site-packages (from torch-fidelity) (2.0.0)\r\n",
      "Requirement already satisfied: torchvision in /opt/conda/lib/python3.10/site-packages (from torch-fidelity) (0.15.1)\r\n",
      "Requirement already satisfied: tqdm in /opt/conda/lib/python3.10/site-packages (from torch-fidelity) (4.64.1)\r\n",
      "Requirement already satisfied: filelock in /opt/conda/lib/python3.10/site-packages (from torch->torch-fidelity) (3.12.0)\r\n",
      "Requirement already satisfied: typing-extensions in /opt/conda/lib/python3.10/site-packages (from torch->torch-fidelity) (4.5.0)\r\n",
      "Requirement already satisfied: sympy in /opt/conda/lib/python3.10/site-packages (from torch->torch-fidelity) (1.12)\r\n",
      "Requirement already satisfied: networkx in /opt/conda/lib/python3.10/site-packages (from torch->torch-fidelity) (3.1)\r\n",
      "Requirement already satisfied: jinja2 in /opt/conda/lib/python3.10/site-packages (from torch->torch-fidelity) (3.1.2)\r\n",
      "Requirement already satisfied: requests in /opt/conda/lib/python3.10/site-packages (from torchvision->torch-fidelity) (2.28.2)\r\n",
      "Requirement already satisfied: MarkupSafe>=2.0 in /opt/conda/lib/python3.10/site-packages (from jinja2->torch->torch-fidelity) (2.1.2)\r\n",
      "Requirement already satisfied: charset-normalizer<4,>=2 in /opt/conda/lib/python3.10/site-packages (from requests->torchvision->torch-fidelity) (2.1.1)\r\n",
      "Requirement already satisfied: idna<4,>=2.5 in /opt/conda/lib/python3.10/site-packages (from requests->torchvision->torch-fidelity) (3.4)\r\n",
      "Requirement already satisfied: urllib3<1.27,>=1.21.1 in /opt/conda/lib/python3.10/site-packages (from requests->torchvision->torch-fidelity) (1.26.15)\r\n",
      "Requirement already satisfied: certifi>=2017.4.17 in /opt/conda/lib/python3.10/site-packages (from requests->torchvision->torch-fidelity) (2023.5.7)\r\n",
      "Requirement already satisfied: mpmath>=0.19 in /opt/conda/lib/python3.10/site-packages (from sympy->torch->torch-fidelity) (1.3.0)\r\n",
      "Installing collected packages: torch-fidelity\r\n",
      "Successfully installed torch-fidelity-0.3.0\r\n",
      "\u001b[33mWARNING: Running pip as the 'root' user can result in broken permissions and conflicting behaviour with the system package manager. It is recommended to use a virtual environment instead: https://pip.pypa.io/warnings/venv\u001b[0m\u001b[33m\r\n",
      "\u001b[0m"
     ]
    }
   ],
   "source": [
    "!pip install torch-fidelity"
   ]
  },
  {
   "cell_type": "code",
   "execution_count": 2,
   "id": "ac4cb7e6",
   "metadata": {
    "execution": {
     "iopub.execute_input": "2023-06-17T15:07:51.235836Z",
     "iopub.status.busy": "2023-06-17T15:07:51.235486Z",
     "iopub.status.idle": "2023-06-17T15:07:55.117265Z",
     "shell.execute_reply": "2023-06-17T15:07:55.116342Z"
    },
    "papermill": {
     "duration": 3.888359,
     "end_time": "2023-06-17T15:07:55.119607",
     "exception": false,
     "start_time": "2023-06-17T15:07:51.231248",
     "status": "completed"
    },
    "tags": []
   },
   "outputs": [],
   "source": [
    "import torch_fidelity"
   ]
  },
  {
   "cell_type": "code",
   "execution_count": 3,
   "id": "6beef50e",
   "metadata": {
    "execution": {
     "iopub.execute_input": "2023-06-17T15:07:55.127258Z",
     "iopub.status.busy": "2023-06-17T15:07:55.126776Z",
     "iopub.status.idle": "2023-06-17T15:07:55.131456Z",
     "shell.execute_reply": "2023-06-17T15:07:55.130474Z"
    },
    "papermill": {
     "duration": 0.010911,
     "end_time": "2023-06-17T15:07:55.133753",
     "exception": false,
     "start_time": "2023-06-17T15:07:55.122842",
     "status": "completed"
    },
    "tags": []
   },
   "outputs": [],
   "source": [
    "# 准备真实数据分布和生成模型的图像数据\n",
    "dataset_path = '../input/butterfly/butterfly/'\n",
    "fastai_result_path = '../input/gen-butterfly/gen_butterfly_picture/fastai_result/'\n",
    "torchgan_result_path = '../input/gen-butterfly/gen_butterfly_picture/torchgan_result/'"
   ]
  },
  {
   "cell_type": "code",
   "execution_count": 4,
   "id": "2c54acfa",
   "metadata": {
    "execution": {
     "iopub.execute_input": "2023-06-17T15:07:55.140803Z",
     "iopub.status.busy": "2023-06-17T15:07:55.140515Z",
     "iopub.status.idle": "2023-06-17T15:07:55.145256Z",
     "shell.execute_reply": "2023-06-17T15:07:55.144443Z"
    },
    "papermill": {
     "duration": 0.01048,
     "end_time": "2023-06-17T15:07:55.147225",
     "exception": false,
     "start_time": "2023-06-17T15:07:55.136745",
     "status": "completed"
    },
    "tags": []
   },
   "outputs": [],
   "source": [
    "def calculate_fid_value(input1,input2):\n",
    "    metrics_dict = torch_fidelity.calculate_metrics(\n",
    "        input1=input1,\n",
    "        input2=input2,\n",
    "        kid_subset_size = 128,\n",
    "        cuda=True,\n",
    "        isc=True,\n",
    "        fid=True,\n",
    "        kid=True,\n",
    "        verbose=False,\n",
    "    )\n",
    "    return metrics_dict['frechet_inception_distance']"
   ]
  },
  {
   "cell_type": "code",
   "execution_count": 5,
   "id": "bda0854f",
   "metadata": {
    "execution": {
     "iopub.execute_input": "2023-06-17T15:07:55.154105Z",
     "iopub.status.busy": "2023-06-17T15:07:55.153842Z",
     "iopub.status.idle": "2023-06-17T15:08:48.702637Z",
     "shell.execute_reply": "2023-06-17T15:08:48.700892Z"
    },
    "papermill": {
     "duration": 53.556051,
     "end_time": "2023-06-17T15:08:48.706183",
     "exception": false,
     "start_time": "2023-06-17T15:07:55.150132",
     "status": "completed"
    },
    "tags": []
   },
   "outputs": [
    {
     "name": "stderr",
     "output_type": "stream",
     "text": [
      "Downloading: \"https://github.com/toshas/torch-fidelity/releases/download/v0.2.0/weights-inception-2015-12-05-6726825d.pth\" to /root/.cache/torch/hub/checkpoints/weights-inception-2015-12-05-6726825d.pth\n",
      "100%|██████████| 91.2M/91.2M [00:01<00:00, 75.0MB/s]\n",
      "/opt/conda/lib/python3.10/site-packages/torch_fidelity/datasets.py:16: UserWarning: TypedStorage is deprecated. It will be removed in the future and UntypedStorage will be the only storage class. This should only matter to you if you are using storages directly.  To access UntypedStorage directly, use tensor.untyped_storage() instead of tensor.storage()\n",
      "  img = torch.ByteTensor(torch.ByteStorage.from_buffer(img.tobytes())).view(height, width, 3)\n",
      "/opt/conda/lib/python3.10/site-packages/torch/utils/data/dataloader.py:561: UserWarning: This DataLoader will create 4 worker processes in total. Our suggested max number of worker in current system is 2, which is smaller than what this DataLoader is going to create. Please be aware that excessive worker creation might get DataLoader running slow or even freeze, lower the worker number to avoid potential slowness/freeze if necessary.\n",
      "  warnings.warn(_create_warning_msg(\n"
     ]
    }
   ],
   "source": [
    "fastai_fid = calculate_fid_value(dataset_path,fastai_result_path)\n",
    "torchgan_fid = calculate_fid_value(dataset_path,torchgan_result_path)"
   ]
  },
  {
   "cell_type": "code",
   "execution_count": 6,
   "id": "55075cd7",
   "metadata": {
    "execution": {
     "iopub.execute_input": "2023-06-17T15:08:48.727209Z",
     "iopub.status.busy": "2023-06-17T15:08:48.726709Z",
     "iopub.status.idle": "2023-06-17T15:08:48.733372Z",
     "shell.execute_reply": "2023-06-17T15:08:48.732510Z"
    },
    "papermill": {
     "duration": 0.02137,
     "end_time": "2023-06-17T15:08:48.737601",
     "exception": false,
     "start_time": "2023-06-17T15:08:48.716231",
     "status": "completed"
    },
    "tags": []
   },
   "outputs": [
    {
     "name": "stdout",
     "output_type": "stream",
     "text": [
      "fastai_fid: 165.17541841511087\n",
      "torchgan_fid: 212.39110667183198\n"
     ]
    }
   ],
   "source": [
    "print('fastai_fid:',fastai_fid)\n",
    "print('torchgan_fid:',torchgan_fid)"
   ]
  }
 ],
 "metadata": {
  "kernelspec": {
   "display_name": "Python 3",
   "language": "python",
   "name": "python3"
  },
  "language_info": {
   "codemirror_mode": {
    "name": "ipython",
    "version": 3
   },
   "file_extension": ".py",
   "mimetype": "text/x-python",
   "name": "python",
   "nbconvert_exporter": "python",
   "pygments_lexer": "ipython3",
   "version": "3.10.10"
  },
  "papermill": {
   "default_parameters": {},
   "duration": 82.746219,
   "end_time": "2023-06-17T15:08:51.311406",
   "environment_variables": {},
   "exception": null,
   "input_path": "__notebook__.ipynb",
   "output_path": "__notebook__.ipynb",
   "parameters": {},
   "start_time": "2023-06-17T15:07:28.565187",
   "version": "2.4.0"
  }
 },
 "nbformat": 4,
 "nbformat_minor": 5
}
